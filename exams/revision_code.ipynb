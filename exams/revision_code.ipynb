{
 "cells": [
  {
   "attachments": {},
   "cell_type": "markdown",
   "metadata": {},
   "source": [
    "# Revision Code"
   ]
  },
  {
   "cell_type": "code",
   "execution_count": 1,
   "metadata": {},
   "outputs": [],
   "source": [
    "using LinearAlgebra, ColorBitstring, Plots, Test\n",
    "import Base: getindex, setindex, size, *, \\"
   ]
  },
  {
   "attachments": {},
   "cell_type": "markdown",
   "metadata": {},
   "source": [
    "## Lab 4\n",
    "`mul_cols` for dense matrices:"
   ]
  },
  {
   "cell_type": "code",
   "execution_count": 2,
   "metadata": {},
   "outputs": [
    {
     "data": {
      "text/plain": [
       "mul_cols (generic function with 1 method)"
      ]
     },
     "metadata": {},
     "output_type": "display_data"
    }
   ],
   "source": [
    "function mul_cols(A,x)\n",
    "    m,n = size(A)\n",
    "    b = zeros(eltype(x), m)\n",
    "    for j=1:n, k=1:m\n",
    "        b[k] = A[k,j]*x[j]\n",
    "    end\n",
    "    b\n",
    "end\n"
   ]
  },
  {
   "cell_type": "code",
   "execution_count": 3,
   "metadata": {},
   "outputs": [
    {
     "data": {
      "text/plain": [
       "5-element Vector{Int64}:\n",
       " 0\n",
       " 0\n",
       " 0\n",
       " 0\n",
       " 0"
      ]
     },
     "metadata": {},
     "output_type": "display_data"
    }
   ],
   "source": [
    "zeros(Int, 5)\n",
    "fill(0.0, 5)\n",
    "[0 for k=1:5]"
   ]
  },
  {
   "cell_type": "code",
   "execution_count": 4,
   "metadata": {},
   "outputs": [
    {
     "data": {
      "text/plain": [
       "5×6 Matrix{Int64}:\n",
       " 1  1  1  1  1  1\n",
       " 1  1  1  1  1  1\n",
       " 1  1  1  1  1  1\n",
       " 1  1  1  1  1  1\n",
       " 1  1  1  1  1  1"
      ]
     },
     "metadata": {},
     "output_type": "display_data"
    }
   ],
   "source": [
    "ones(Int, 5, 6)\n",
    "fill(1, 5, 6)\n",
    "[1 for k=1:5, j=1:6]"
   ]
  },
  {
   "cell_type": "code",
   "execution_count": 5,
   "metadata": {},
   "outputs": [
    {
     "data": {
      "text/plain": [
       "1×5 Matrix{Int64}:\n",
       " 1  2  3  4  5"
      ]
     },
     "metadata": {},
     "output_type": "display_data"
    }
   ],
   "source": [
    "# Note: (1:5)' is a \"row-vector\" which behaves differently than a matrix\n",
    "Matrix((1:5)')\n",
    "\n",
    "# 2. Broadcast:\n",
    "#exp.(-(1:5))\n",
    "\n",
    "# 3. Explicit broadcsat:\n",
    "#broadcast(k -> exp(-k), 1:5)\n",
    "\n",
    "# 4. Comprehension:\n",
    "#[exp(-k) for k=1:5]"
   ]
  },
  {
   "attachments": {},
   "cell_type": "markdown",
   "metadata": {},
   "source": [
    "More on broadcasting"
   ]
  },
  {
   "cell_type": "code",
   "execution_count": 6,
   "metadata": {},
   "outputs": [
    {
     "data": {
      "text/plain": [
       "5×6 Matrix{Float64}:\n",
       " -0.416147  -0.989992  -0.653644   0.283662   0.96017    0.753902\n",
       " -0.989992  -0.653644   0.283662   0.96017    0.753902  -0.1455\n",
       " -0.653644   0.283662   0.96017    0.753902  -0.1455    -0.91113\n",
       "  0.283662   0.96017    0.753902  -0.1455    -0.91113   -0.839072\n",
       "  0.96017    0.753902  -0.1455    -0.91113   -0.839072   0.0044257"
      ]
     },
     "metadata": {},
     "output_type": "display_data"
    }
   ],
   "source": [
    "k = 1:5\n",
    "j = 1:6\n",
    "cos.(k .+ j')"
   ]
  },
  {
   "cell_type": "code",
   "execution_count": 7,
   "metadata": {},
   "outputs": [
    {
     "data": {
      "text/plain": [
       "5×6 Matrix{Float64}:\n",
       " -0.416147  -0.989992  -0.653644   0.283662   0.96017    0.753902\n",
       " -0.989992  -0.653644   0.283662   0.96017    0.753902  -0.1455\n",
       " -0.653644   0.283662   0.96017    0.753902  -0.1455    -0.91113\n",
       "  0.283662   0.96017    0.753902  -0.1455    -0.91113   -0.839072\n",
       "  0.96017    0.753902  -0.1455    -0.91113   -0.839072   0.0044257"
      ]
     },
     "metadata": {},
     "output_type": "display_data"
    }
   ],
   "source": [
    "broadcast((k,j) -> cos(k+j), 1:5, (1:6)')"
   ]
  },
  {
   "attachments": {},
   "cell_type": "markdown",
   "metadata": {},
   "source": [
    "Triangular matrices `mul_cols`:"
   ]
  },
  {
   "cell_type": "code",
   "execution_count": 8,
   "metadata": {},
   "outputs": [
    {
     "data": {
      "text/plain": [
       "mul_cols (generic function with 3 methods)"
      ]
     },
     "metadata": {},
     "output_type": "display_data"
    }
   ],
   "source": [
    "function mul_cols(U::UpperTriangular, x)\n",
    "    n = size(U,1)\n",
    "    T = promote_type(eltype(x), eltype(U))\n",
    "    b = zeros(T,n)\n",
    "    for j = 1:n, k = 1:j\n",
    "        b[k] += U[k,j] * x[j]\n",
    "    end\n",
    "    b\n",
    "end\n",
    "\n",
    "function mul_cols(L::LowerTriangular, x)\n",
    "    n = size(L,1)\n",
    "    T = promote_type(eltype(x), eltype(L))\n",
    "    b = zeros(T,n)\n",
    "    for j = 1:n, k = j:n\n",
    "        b[k] += L[k,j] * x[j]\n",
    "    end\n",
    "    b\n",
    "end"
   ]
  },
  {
   "attachments": {},
   "cell_type": "markdown",
   "metadata": {},
   "source": [
    "Solving linear systems:"
   ]
  },
  {
   "cell_type": "code",
   "execution_count": 9,
   "metadata": {},
   "outputs": [
    {
     "data": {
      "text/plain": [
       "\u001b[32m\u001b[1mTest Passed\u001b[22m\u001b[39m"
      ]
     },
     "metadata": {},
     "output_type": "display_data"
    }
   ],
   "source": [
    "function ldiv(L::LowerTriangular, b)\n",
    "    n = size(L, 1)\n",
    "    T = promote_type(eltype(L), eltype(b))\n",
    "    if length(b) != n\n",
    "        error(\"The system is not compatible\")\n",
    "    end\n",
    "    x = zeros(T, n)\n",
    "\n",
    "    for k = 1:n\n",
    "        r = b[k]\n",
    "        for j = 1:k-1\n",
    "            r -= L[k,j]*x[j]\n",
    "        end\n",
    "        x[k] = r/L[k,k]\n",
    "    end\n",
    "    # END\n",
    "    x\n",
    "end\n",
    "\n",
    "\n",
    "function ldiv(U::UpperTriangular, b)\n",
    "    n = size(L, 1)\n",
    "    T = promote_type(eltype(U), eltype(b))\n",
    "    if length(b) != n\n",
    "        error(\"The system is not compatible\")\n",
    "    end\n",
    "    x = zeros(T, n)\n",
    "\n",
    "    for k = n:-1:1\n",
    "        r = b[k]\n",
    "        for j = n:-1:k+1\n",
    "            r -= U[k,j]*x[j]\n",
    "        end\n",
    "        x[k] = r/U[k,k]\n",
    "    end\n",
    "    # END\n",
    "    x\n",
    "end\n",
    "\n",
    "L = LowerTriangular(randn(5,5))\n",
    "b = randn(5)\n",
    "@test L\\b ≈ ldiv(L, b)\n",
    "\n",
    "U = UpperTriangular(randn(5,5))\n",
    "b = randn(5)\n",
    "@test U\\b ≈ ldiv(U, b)"
   ]
  },
  {
   "attachments": {},
   "cell_type": "markdown",
   "metadata": {},
   "source": [
    "Upper Tridiagonal matrices:"
   ]
  },
  {
   "cell_type": "code",
   "execution_count": 10,
   "metadata": {},
   "outputs": [
    {
     "data": {
      "text/plain": [
       "\u001b[32m\u001b[1mTest Passed\u001b[22m\u001b[39m"
      ]
     },
     "metadata": {},
     "output_type": "display_data"
    }
   ],
   "source": [
    "struct UpperTridiagonal{T} <: AbstractMatrix{T}\n",
    "    d::Vector{T}   # diagonal entries: d[k] == U[k,k]\n",
    "    du::Vector{T}  # super-diagonal enries: du[k] == U[k,k+1]\n",
    "    du2::Vector{T} # second-super-diagonal entries: du2[k] == U[k,k+2]\n",
    "end\n",
    "\n",
    "size(U::UpperTridiagonal) = (length(U.d),length(U.d))\n",
    "\n",
    "function getindex(U::UpperTridiagonal, k::Int, j::Int)\n",
    "    d,du,du2 = U.d,U.du,U.du2\n",
    "    if j == k+2\n",
    "    \treturn U.du2[k]\n",
    "    elseif j == k+1\n",
    "    \treturn U.du[k]\n",
    "    elseif j == k\n",
    "    \treturn U.d[k]\n",
    "    else # off band entries are zero\n",
    "    \treturn zero(eltype(U))\n",
    "    end\n",
    "end\n",
    "\n",
    "function setindex!(U::UpperTridiagonal, v, k::Int, j::Int)\n",
    "    d,du,du2 = U.d,U.du,U.du2\n",
    "    if j > k+2 || j < k\n",
    "        error(\"Cannot modify off-band\")\n",
    "    end\n",
    "\n",
    "    if j == k+2\n",
    "    \tdu2[k] = v\n",
    "    elseif j == k+1\n",
    "    \tdu[k] = v\n",
    "    elseif j == k\n",
    "    \td[k] = v\n",
    "    end\n",
    "    U # by convention we return the matrix\n",
    "end\n",
    "\n",
    "function *(U::UpperTridiagonal, x::AbstractVector)\n",
    "    n = size(U,1)\n",
    "    T = promote_type(eltype(x),eltype(U))\n",
    "    b = zeros(T, n)\n",
    "    for j = 1:n, k = max(j-2,1):j\n",
    "        b[k] += U[k, j] * x[j]\n",
    "    end\n",
    "    b\n",
    "end\n",
    "\n",
    "function \\(U::UpperTridiagonal, b::AbstractVector)\n",
    "    n = size(U,1)\n",
    "    T = promote_type(eltype(b),eltype(U))\n",
    "\n",
    "    if length(b) != n\n",
    "        error(\"The system is not compatible\")\n",
    "    end\n",
    "\n",
    "    x = zeros(T, n)\n",
    "    for k = n:-1:1  # start with k=n, then k=n-1, ...\n",
    "        r = b[k]  # dummy variable\n",
    "        for j = k+1:min(n, k+2)\n",
    "            r -= U[k,j]*x[j] # equivalent to r = r - U[k,j]*x[j]\n",
    "        end\n",
    "        # after this for loop, r = b[k] - ∑_{j=k+1}^n U[k,j]x[j]\n",
    "        x[k] = r/U[k,k]\n",
    "    end\n",
    "    x\n",
    "end\n",
    "\n",
    "n = 1_000_000 # under-scores are like commas: so this is a million: 1,000,000\n",
    "U = UpperTridiagonal(ones(n), fill(0.5,n-1), fill(0.1,n-2))\n",
    "x = ones(n)\n",
    "b = [fill(1.6,n-2); 1.5; 1] # exact result\n",
    "# note following should take much less than a second\n",
    "@test U*x ≈ b\n",
    "@test U\\b ≈ x"
   ]
  },
  {
   "attachments": {},
   "cell_type": "markdown",
   "metadata": {},
   "source": [
    "## Lab 5\n",
    "Permutation matrices:"
   ]
  },
  {
   "cell_type": "code",
   "execution_count": 11,
   "metadata": {},
   "outputs": [
    {
     "data": {
      "text/plain": [
       "\u001b[32m\u001b[1mTest Passed\u001b[22m\u001b[39m"
      ]
     },
     "metadata": {},
     "output_type": "display_data"
    }
   ],
   "source": [
    "struct PermutationMatrix <: AbstractMatrix{Int}\n",
    "    p::Vector{Int}\n",
    "    function PermutationMatrix(p::Vector)\n",
    "        sort(p) == 1:length(p) || error(\"input is not a valid permutation\")\n",
    "        new(p)\n",
    "    end\n",
    "end\n",
    "\n",
    "function size(P::PermutationMatrix)\n",
    "    (length(P.p),length(P.p))\n",
    "end\n",
    "\n",
    "\n",
    "function getindex(P::PermutationMatrix, k::Int, j::Int)\n",
    "    P.p[k] == j ? 1 : 0\n",
    "end\n",
    "function *(P::PermutationMatrix, x::AbstractVector)\n",
    "    x[P.p]\n",
    "end\n",
    "\n",
    "p = [1, 4, 2, 5, 3]\n",
    "P = PermutationMatrix(p)\n",
    "@test P == I(5)[p,:]\n",
    "\n",
    "n = 100_000\n",
    "p = Vector(n:-1:1)\n",
    "P = PermutationMatrix(p)\n",
    "x = randn(n)\n",
    "@test P*x == x[p]"
   ]
  },
  {
   "attachments": {},
   "cell_type": "markdown",
   "metadata": {},
   "source": [
    "Reflection:"
   ]
  },
  {
   "cell_type": "code",
   "execution_count": 12,
   "metadata": {},
   "outputs": [
    {
     "data": {
      "text/plain": [
       "householderreflection (generic function with 1 method)"
      ]
     },
     "metadata": {},
     "output_type": "display_data"
    }
   ],
   "source": [
    "# Represents I - 2v*v'\n",
    "struct Reflection{T} <: AbstractMatrix{T}\n",
    "    v::Vector{T}\n",
    "end\n",
    "\n",
    "Reflection(x::Vector{T}) where T = Reflection{T}(x/norm(x))\n",
    "\n",
    "function size(Q::Reflection)\n",
    "    (length(Q.v),length(Q.v))\n",
    "end\n",
    "\n",
    "function getindex(Q::Reflection, k::Int, j::Int)\n",
    "    if k == j\n",
    "        1 - 2Q.v[k]*conj(Q.v[j])\n",
    "    else\n",
    "        - 2Q.v[k]*conj(Q.v[j])\n",
    "    end\n",
    "end\n",
    "\n",
    "function *(Q::Reflection, x::AbstractVector)\n",
    "    x - 2*Q.v * dot(Q.v,x) # (Q.v'*x) also works instead of dot\n",
    "end\n",
    "\n",
    "function householderreflection(s::Bool, x::AbstractVector)\n",
    "    y = copy(x) # don't modify `x`\n",
    "    if s\n",
    "        y[1] -= norm(x)\n",
    "    else\n",
    "        y[1] += norm(x)\n",
    "    end\n",
    "    Reflection(y)\n",
    "end"
   ]
  },
  {
   "attachments": {},
   "cell_type": "markdown",
   "metadata": {},
   "source": [
    "Complete the definition of `Reflections` which supports a sequence of reflections,\n",
    "that is,\n",
    "$$\n",
    "Q = Q_{𝐯_1} ⋯ Q_{𝐯_m}\n",
    "$$\n",
    "where the vectors are stored as a matrix $V ∈ ℂ^{n × m}$ whose $j$-th column is $𝐯_j∈ ℂ^n$, and\n",
    "$$\n",
    "Q_{𝐯_j} = I - 2 𝐯_j 𝐯_j^⋆\n",
    "$$\n",
    "is a reflection."
   ]
  },
  {
   "cell_type": "code",
   "execution_count": 13,
   "metadata": {},
   "outputs": [
    {
     "data": {
      "text/plain": [
       "\u001b[32m\u001b[1mTest Passed\u001b[22m\u001b[39m"
      ]
     },
     "metadata": {},
     "output_type": "display_data"
    }
   ],
   "source": [
    "struct Reflections{T} <: AbstractMatrix{T}\n",
    "    V::Matrix{T}\n",
    "end\n",
    "\n",
    "size(Q::Reflections) = (size(Q.V,1), size(Q.V,1))\n",
    "\n",
    "\n",
    "function *(Q::Reflections, x::AbstractVector)\n",
    "    m,n = size(Q.V)\n",
    "    for j = n:-1:1\n",
    "        x = Reflection(Q.V[:, j]) * x\n",
    "    end\n",
    "    x\n",
    "end\n",
    "\n",
    "function getindex(Q::Reflections, k::Int, j::Int)\n",
    "    T = eltype(Q.V)\n",
    "    m,n = size(Q)\n",
    "    ej = zeros(T, m)\n",
    "    ej[j] = one(T)\n",
    "    return (Q*ej)[k]\n",
    "end\n",
    "\n",
    "Y = randn(5,3)\n",
    "V = Y * Diagonal([1/norm(Y[:,j]) for j=1:3])\n",
    "Q = Reflections(V)\n",
    "@test Q ≈ (I - 2V[:,1]*V[:,1]')*(I - 2V[:,2]*V[:,2]')*(I - 2V[:,3]*V[:,3]')\n",
    "@test Q'Q ≈ I"
   ]
  },
  {
   "attachments": {},
   "cell_type": "markdown",
   "metadata": {},
   "source": [
    "## Lab 6\n",
    "Vandermonde matrix:"
   ]
  },
  {
   "cell_type": "code",
   "execution_count": 14,
   "metadata": {},
   "outputs": [
    {
     "data": {
      "text/plain": [
       "vandermonde (generic function with 1 method)"
      ]
     },
     "metadata": {},
     "output_type": "display_data"
    }
   ],
   "source": [
    "function vandermonde(𝐱, n) # 𝐱 = [x_1,…,x_m]\n",
    "    m = length(𝐱)\n",
    "    # 𝐱 .^ (0:n-1)'\n",
    "    [𝐱[j]^k for j = 1:m, k = 0:n-1]\n",
    "end"
   ]
  },
  {
   "attachments": {},
   "cell_type": "markdown",
   "metadata": {},
   "source": [
    "Interpolation:"
   ]
  },
  {
   "cell_type": "code",
   "execution_count": 15,
   "metadata": {},
   "outputs": [],
   "source": [
    "n = 50\n",
    "𝐱 = range(-1, 1; length=n)\n",
    "𝐠 = range(-1, 1; length=1000)\n",
    "\n",
    "# TODO: interpolate 1/(10x^2 + 1) and 1/(25x^2 + 1) at $𝐱$, plotting both solutions evaluated at the grid 𝐠. \n",
    "# Use a rectangular Vandermonde matrix to evaluate your polynomial on 𝐠. Remember `plot(𝐱, 𝐟)` will create\n",
    "# a new plot whilst `plot!(𝐱, 𝐟)` will add to an existing plot.\n",
    "\n",
    "V = vandermonde(𝐱, n)\n",
    "V_g = vandermonde(𝐠, n)\n",
    "f_4 = x -> 1/(4x^2 + 1)\n",
    "𝐜_4 = V \\ f_4.(𝐱)\n",
    "f_25 = x -> 1/(25x^2 + 1)\n",
    "𝐜_25 = V \\ f_25.(𝐱)\n",
    "\n",
    "plot(𝐠, V_g*𝐜_4; ylims=(-1,1))\n",
    "plot!(𝐠, V_g*𝐜_25)"
   ]
  },
  {
   "attachments": {},
   "cell_type": "markdown",
   "metadata": {},
   "source": [
    "Least square version:"
   ]
  },
  {
   "cell_type": "code",
   "execution_count": null,
   "metadata": {},
   "outputs": [],
   "source": [
    "n = 50 # use basis [1,x,…,x^(49)]\n",
    "𝐱 = range(-1, 1; length=500) # least squares grid\n",
    "𝐠 = range(-1, 1; length=2000) # plotting grid\n",
    "\n",
    "V = vandermonde(𝐱, n)\n",
    "V_g = vandermonde(𝐠, n)\n",
    "f_4 = x -> 1/(4x^2 + 1)\n",
    "𝐜_4 = V \\ f_4.(𝐱)\n",
    "f_25 = x -> 1/(25x^2 + 1)\n",
    "𝐜_25 = V \\ f_25.(𝐱)\n",
    "\n",
    "plot(𝐠, V_g*𝐜_4; ylims=(-1,1))\n",
    "plot!(𝐠, V_g*𝐜_25)"
   ]
  },
  {
   "attachments": {},
   "cell_type": "markdown",
   "metadata": {},
   "source": [
    "Householder QR:"
   ]
  },
  {
   "cell_type": "code",
   "execution_count": null,
   "metadata": {},
   "outputs": [],
   "source": [
    "function householderqr(A)\n",
    "    T = eltype(A)\n",
    "    m,n = size(A)\n",
    "    if n > m\n",
    "        error(\"More columns than rows is not supported\")\n",
    "    end\n",
    "\n",
    "    R = zeros(T, m, n)\n",
    "    Q = Reflections(zeros(T, m, n))\n",
    "    Aⱼ = copy(A)\n",
    "\n",
    "    for j = 1:n\n",
    "        # TODO: rewrite householder QR to use Reflection and\n",
    "        # Reflections, in a way that one achieves O(mn^2) operations\n",
    "        # SOLUTION\n",
    "        𝐚₁ = Aⱼ[:,1] # first columns of Aⱼ\n",
    "        Q₁ = householderreflection(𝐚₁[1] < 0, 𝐚₁)\n",
    "        Q₁Aⱼ = Q₁*Aⱼ\n",
    "        α,𝐰 = Q₁Aⱼ[1,1],Q₁Aⱼ[1,2:end]\n",
    "        Aⱼ₊₁ = Q₁Aⱼ[2:end,2:end]\n",
    "\n",
    "        # populate returned data\n",
    "        R[j,j] = α\n",
    "        R[j,j+1:end] = 𝐰\n",
    "\n",
    "        Q.V[j:end, j] = Q₁.v\n",
    "\n",
    "        Aⱼ = Aⱼ₊₁ # this is the \"induction\"\n",
    "        # END\n",
    "    end\n",
    "    Q,R\n",
    "end"
   ]
  },
  {
   "attachments": {},
   "cell_type": "markdown",
   "metadata": {},
   "source": [
    "Note in Julia `opnorm(A)` is the induced matrix 2-norm. `norm(A) == norm(vec(A))` is the Fröbenius norm.\n",
    "The following code samples a function on a grid in the square `[-1,1]^2`\n",
    "and plots the corresponding pixels:"
   ]
  },
  {
   "cell_type": "code",
   "execution_count": null,
   "metadata": {},
   "outputs": [],
   "source": [
    "m,n = 150,100\n",
    "x = range(-1, 1; length=n)\n",
    "y = range(-1, 1; length=m)\n",
    "\n",
    "F = f.(x', y) # equivalent to [f(x[j],y[k]) for k=1:m, j=1:n]\n",
    "\n",
    "function fsample(f::Function, m::Int, n::Int)\n",
    "    x = range(-1, 1; length=n)\n",
    "    y = range(-1, 1; length=m)\n",
    "    f.(x', y)\n",
    "end\n",
    "\n",
    "heatmap(x, y, F)"
   ]
  },
  {
   "attachments": {},
   "cell_type": "markdown",
   "metadata": {},
   "source": [
    "## Matrix compression\n",
    "Use SVD to compress a matrix to its best rank-$k$ approximation:"
   ]
  },
  {
   "cell_type": "code",
   "execution_count": null,
   "metadata": {},
   "outputs": [],
   "source": [
    "function svdcompress(A::Matrix, k::Integer)\n",
    "    U,σ,V = svd(A)\n",
    "    Ak = U[:,1:k]*Diagonal(σ[1:k])*V[:,1:k]'\n",
    "    Ak\n",
    "end"
   ]
  },
  {
   "attachments": {},
   "cell_type": "markdown",
   "metadata": {},
   "source": [
    "Return the smallest rank such that the rank-$k$ approximation differs by at most $\\epsilon$ from the 2-norm of $A$. Note: this will be the position of the last singular value that is greater than $\\epsilon$."
   ]
  },
  {
   "cell_type": "code",
   "execution_count": null,
   "metadata": {},
   "outputs": [],
   "source": [
    "function svdcompress_rank(A::Matrix, ε::Real)\n",
    "    σ = svdvals(A)\n",
    "    for k = 1:length(σ)\n",
    "        if σ[k] ≤ ε\n",
    "            return k-1\n",
    "        end\n",
    "    end\n",
    "    return length(σ)\n",
    "end\n",
    "\n",
    "function svdcompress_rank2(A::Matrix, ε::Real)\n",
    "    k=1\n",
    "    n,m = size(A)\n",
    "    while opnorm(A-svdcompress(A,k))>ε && k<min(n,m)\n",
    "        k+=1\n",
    "    end\n",
    "    k\n",
    "end"
   ]
  },
  {
   "attachments": {},
   "cell_type": "markdown",
   "metadata": {},
   "source": [
    "Plot of how the rank of a Hilbert matrix grows with its dimension $n$ from $1$ to $200$:"
   ]
  },
  {
   "cell_type": "code",
   "execution_count": null,
   "metadata": {},
   "outputs": [],
   "source": [
    "hilbertmatrix(n) = [1/(k + j - 1) for k=1:n, j=1:n]\n",
    "\n",
    "plot([svdcompress_rank(hilbertmatrix(n), 1E-10) for n=1:200], xscale=:log10)"
   ]
  },
  {
   "attachments": {},
   "cell_type": "markdown",
   "metadata": {},
   "source": [
    "Solving differential equation from lab 7:"
   ]
  },
  {
   "cell_type": "code",
   "execution_count": null,
   "metadata": {},
   "outputs": [],
   "source": [
    "function forwardeuler(a, n)\n",
    "    h = 1/n\n",
    "    d = [1.0; fill(1/h, n)]\n",
    "    dl = fill(-(a+1/h), n)\n",
    "    Bidiagonal(d,dl,:L)\n",
    "end"
   ]
  },
  {
   "attachments": {},
   "cell_type": "markdown",
   "metadata": {},
   "source": [
    "Conditional numbers:"
   ]
  },
  {
   "cell_type": "code",
   "execution_count": null,
   "metadata": {},
   "outputs": [],
   "source": [
    "A = [1 2 3;\n",
    "     3 4 5;\n",
    "     1 5 2]\n",
    "opnorm(A)*opnorm(inv(A)) ≈ cond(A)"
   ]
  },
  {
   "cell_type": "code",
   "execution_count": null,
   "metadata": {},
   "outputs": [],
   "source": [
    "plot([cond(forwardeuler(1, n)) for n = 1:200]; yscale=:log10, xscale=:log10, label=\"cond\")\n",
    "plot!(1:200; label=\"linear\")\n",
    "plot!((1:200) .^ (3/2); label=\"quadratic\")\n",
    "\n",
    "# appears to be between $Cn$ and $Cn^2$ growth. This means we expect errors to grow\n",
    "# as fast as $ϵ_{\\rm m} n$."
   ]
  },
  {
   "cell_type": "code",
   "execution_count": null,
   "metadata": {},
   "outputs": [],
   "source": []
  }
 ],
 "metadata": {
  "kernelspec": {
   "display_name": "Julia 1.8.5",
   "language": "julia",
   "name": "julia-1.8"
  },
  "language_info": {
   "file_extension": ".jl",
   "mimetype": "application/julia",
   "name": "julia",
   "version": "1.8.5"
  },
  "orig_nbformat": 4
 },
 "nbformat": 4,
 "nbformat_minor": 2
}
